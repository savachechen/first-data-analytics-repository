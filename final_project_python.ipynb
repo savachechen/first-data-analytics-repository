{
 "cells": [
  {
   "cell_type": "code",
   "execution_count": 1,
   "id": "aaf0bbf3-67b3-433c-b5f5-e26db20a32b4",
   "metadata": {},
   "outputs": [],
   "source": [
    "import pandas as pd\n",
    "\n",
    "url='https://drive.google.com/uc?id=1-crPzL6qMinByPzsrEHhGn1EJ1MfD3GX'\n",
    "df = pd.read_csv(url, names=list(range(0, 100, 1)))\n",
    "city_map_list = df.values.tolist()"
   ]
  },
  {
   "cell_type": "code",
   "execution_count": 2,
   "id": "78020d59-7bb6-4916-a0ce-77b1c191f164",
   "metadata": {},
   "outputs": [],
   "source": [
    "courier_location = (84, 17)\n",
    "orders_location = [(66, 32), (39, 75), (90, 10), (89, 60), (79, 77), (65, 38), (9, 5)]\n",
    "route = []"
   ]
  },
  {
   "cell_type": "code",
   "execution_count": 3,
   "id": "ec41720e-6b9b-4c21-ac3f-969df2ffcb48",
   "metadata": {},
   "outputs": [],
   "source": [
    "def navigator(start, end):\n",
    "# Создаем матрицу размером city_map_list с нулями, кроме поля start = 1\n",
    "    m = []\n",
    "    for i in range(len(city_map_list)):\n",
    "        m.append([])\n",
    "        for j in range(len(city_map_list[i])):\n",
    "            m[-1].append(0)\n",
    "    i,j = start[1], start[0] \n",
    "    m[i][j] = 1\n",
    "# Теперь создадим функцию только для одного шага, которая заполняем цифрами поля вокруг нашего, если нет препятствий city_map_list[i-1][j] == 1\n",
    "    def make_step(k):\n",
    "        for i in range(len(m)):\n",
    "            for j in range(len(m[i])):\n",
    "                if m[i][j] == k:\n",
    "                    if i>0 and m[i-1][j] == 0 and city_map_list[i-1][j] == 1:\n",
    "                        m[i-1][j] = k + 1\n",
    "                    if j>0 and m[i][j-1] == 0 and city_map_list[i][j-1] == 1:\n",
    "                        m[i][j-1] = k + 1\n",
    "                    if i<len(m)-1 and m[i+1][j] == 0 and city_map_list[i+1][j] == 1:\n",
    "                        m[i+1][j] = k + 1\n",
    "                    if j<len(m[i])-1 and m[i][j+1] == 0 and city_map_list[i][j+1] == 1:\n",
    "                        m[i][j+1] = k + 1\n",
    "# Далее цикл, который заполнит цифрами до точки end\n",
    "    k = 0\n",
    "    while m[end[1]][end[0]] == 0:\n",
    "        k += 1\n",
    "        make_step(k)\n",
    "# Далее нахождение кратчайшего пути в этой матрице чисел, не равных 0\n",
    "    i, j = end[1], end[0]\n",
    "    k = m[i][j]\n",
    "    the_path = [(i,j)]\n",
    "    while k > 1:\n",
    "      if i > 0 and m[i - 1][j] == k-1:\n",
    "        i, j = i-1, j\n",
    "        the_path.append((i, j))\n",
    "        k-=1\n",
    "      elif j > 0 and m[i][j - 1] == k-1:\n",
    "        i, j = i, j-1\n",
    "        the_path.append((i, j))\n",
    "        k-=1\n",
    "      elif i < len(m) - 1 and m[i + 1][j] == k-1:\n",
    "        i, j = i+1, j\n",
    "        the_path.append((i, j))\n",
    "        k-=1\n",
    "      elif j < len(m[i]) - 1 and m[i][j + 1] == k-1:\n",
    "        i, j = i, j+1\n",
    "        the_path.append((i, j))\n",
    "        k -= 1\n",
    "\n",
    "    result = the_path[::-1]\n",
    "    the_path_sort = [(tup[1], tup[0]) for tup in result]\n",
    "\n",
    "    return the_path_sort"
   ]
  },
  {
   "cell_type": "code",
   "execution_count": 4,
   "id": "1e5125ee-87d3-40ec-a783-732110a47a2d",
   "metadata": {},
   "outputs": [],
   "source": [
    "new_result = navigator(courier_location, orders_location[0])\n",
    "route.extend(new_result)"
   ]
  },
  {
   "cell_type": "code",
   "execution_count": 5,
   "id": "90edcb60-86c7-4749-aebb-74a5190e46a4",
   "metadata": {},
   "outputs": [],
   "source": [
    "for i in range(len(orders_location) - 1):\n",
    "    start = orders_location[i]\n",
    "    end = orders_location[i + 1]\n",
    "    new_result_1 = navigator(start, end)\n",
    "    route.extend(new_result_1[1:])\n",
    "\n",
    "        \n",
    "        "
   ]
  },
  {
   "cell_type": "code",
   "execution_count": 6,
   "id": "74627b37-b372-44bd-8655-5f1394d09e4c",
   "metadata": {},
   "outputs": [],
   "source": [
    "# route - список кортежей со всеми координатами курьера"
   ]
  },
  {
   "cell_type": "code",
   "execution_count": null,
   "id": "50ccc8ed-f0e2-4745-82b0-e2fff4d50784",
   "metadata": {},
   "outputs": [],
   "source": []
  }
 ],
 "metadata": {
  "kernelspec": {
   "display_name": "Python 3 (ipykernel)",
   "language": "python",
   "name": "python3"
  },
  "language_info": {
   "codemirror_mode": {
    "name": "ipython",
    "version": 3
   },
   "file_extension": ".py",
   "mimetype": "text/x-python",
   "name": "python",
   "nbconvert_exporter": "python",
   "pygments_lexer": "ipython3",
   "version": "3.11.7"
  }
 },
 "nbformat": 4,
 "nbformat_minor": 5
}
